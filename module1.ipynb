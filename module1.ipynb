{
 "cells": [
  {
   "cell_type": "code",
   "execution_count": 148,
   "id": "a3794c2c-342c-4fb0-8569-bb0982b7f87d",
   "metadata": {},
   "outputs": [],
   "source": [
    "# coding: utf-8\n",
    "import csv\n",
    "from pathlib import Path"
   ]
  },
  {
   "cell_type": "code",
   "execution_count": 149,
   "id": "5fb3680a-5a49-426b-8255-04438a1a8a50",
   "metadata": {},
   "outputs": [],
   "source": [
    "\"\"\"Part 1: Automate the Calculations.\n",
    "\n",
    "Automate the calculations for the loan portfolio summaries.\n",
    "\n",
    "First, let's start with some calculations on a list of prices for 5 loans.\n",
    "    1. Use the `len` function to calculate the total number of loans in the list.\n",
    "    2. Use the `sum` function to calculate the total of all loans in the list.\n",
    "    3. Using the sum of all loans and the total number of loans, calculate the average loan price.\n",
    "    4. Print all calculations with descriptive messages.\n",
    "\"\"\"\n",
    "loan_costs = [500, 600, 200, 1000, 450]"
   ]
  },
  {
   "cell_type": "code",
   "execution_count": 150,
   "id": "fd6fbc4e-7f38-448d-b5b6-9dbf4d4aba7f",
   "metadata": {},
   "outputs": [
    {
     "name": "stdout",
     "output_type": "stream",
     "text": [
      "The total number of loans is 5\n"
     ]
    }
   ],
   "source": [
    "# How many loans are in the list?\n",
    "# @TODO: Use the `len` function to calculate the total number of loans in the list.\n",
    "# Print the number of loans from the list\n",
    "# YOUR CODE HERE!\n",
    "loan_length = len(loan_costs)\n",
    "print(\"The total number of loans is\", loan_length)"
   ]
  },
  {
   "cell_type": "code",
   "execution_count": 152,
   "id": "b1aaceee-51b6-47eb-9bb1-6f43e74b40c9",
   "metadata": {},
   "outputs": [
    {
     "name": "stdout",
     "output_type": "stream",
     "text": [
      "The sum of all loans is $ 2750\n"
     ]
    }
   ],
   "source": [
    "# What is the total of all loans?\n",
    "# @TODO: Use the `sum` function to calculate the total of all loans in the list.\n",
    "# Print the total value of the loans\n",
    "# YOUR CODE HERE!\n",
    "loan_sum = sum(loan_costs)\n",
    "print(\"The sum of all loans is $\",loan_sum)"
   ]
  },
  {
   "cell_type": "code",
   "execution_count": 153,
   "id": "cf08b8f8-f932-4040-9ccb-f0ff1387ccbd",
   "metadata": {},
   "outputs": [
    {
     "name": "stdout",
     "output_type": "stream",
     "text": [
      "The average loan amount is $ 550.0\n"
     ]
    }
   ],
   "source": [
    "# What is the average loan amount from the list?\n",
    "# @TODO: Using the sum of all loans and the total number of loans, calculate the average loan price.\n",
    "# Print the average loan amount\n",
    "# YOUR CODE HERE!\n",
    "avg = (sum(loan_costs)/len(loan_costs))\n",
    "print(\"The average loan amount is $\",avg)"
   ]
  },
  {
   "cell_type": "code",
   "execution_count": 154,
   "id": "bb306fa5-2930-4271-b328-e4763bdb2bbd",
   "metadata": {},
   "outputs": [
    {
     "name": "stdout",
     "output_type": "stream",
     "text": [
      "The future value is 1000\n",
      "The remaining months is 9\n"
     ]
    }
   ],
   "source": [
    "\"\"\"Part 2: Analyze Loan Data.\n",
    "\n",
    "Analyze the loan to determine the investment evaluation.\n",
    "\n",
    "Using more detailed data on one of these loans, follow these steps to calculate a Present Value, or a \"fair price\" for what this loan would be worth.\n",
    "\n",
    "1. Use get() on the dictionary of additional information to extract the **Future Value** and **Remaining Months** on the loan.\n",
    "    a. Save these values as variables called `future_value` and `remaining_months`.\n",
    "    b. Print each variable.\n",
    "\n",
    "    @NOTE:\n",
    "    **Future Value**: The amount of money the borrower has to pay back upon maturity of the loan (a.k.a. \"Face Value\")\n",
    "    **Remaining Months**: The remaining maturity (in months) before the loan needs to be fully repaid.\n",
    "\n",
    "2. Use the formula for Present Value to calculate a \"fair value\" of the loan. Use a minimum required return of 20% as the discount rate.\n",
    "3. Write a conditional statement (an if-else statement) to decide if the present value represents the loan's fair value.\n",
    "    a. If the present value of the loan is greater than or equal to the cost, then print a message that says the loan is worth at least the cost to buy it.\n",
    "    b. Else, the present value of the loan is less than the loan cost, then print a message that says that the loan is too expensive and not worth the price.\n",
    "\n",
    "    @NOTE:\n",
    "    If Present Value represents the loan's fair value (given the required minimum return of 20%), does it make sense to buy the loan at its current cost?\n",
    "\"\"\"\n",
    "\n",
    "# Given the following loan data, you will need to calculate the present value for the loan\n",
    "loan = {\n",
    "    \"loan_price\": 500,\n",
    "    \"remaining_months\": 9,\n",
    "    \"repayment_interval\": \"bullet\",\n",
    "    \"future_value\": 1000,\n",
    "}\n",
    "\n",
    "# @TODO: Use get() on the dictionary of additional information to extract the Future Value and Remaining Months on the loan.\n",
    "# Print each variable.\n",
    "# YOUR CODE HERE!\n",
    "future_value = loan.get('future_value')\n",
    "remaining_months = loan.get('remaining_months')\n",
    "print(\"The future value is\",future_value )\n",
    "print(\"The remaining months is\",remaining_months)\n"
   ]
  },
  {
   "cell_type": "code",
   "execution_count": 155,
   "id": "8ed37a4f-02a0-4421-aaa3-31651da6481b",
   "metadata": {},
   "outputs": [
    {
     "name": "stdout",
     "output_type": "stream",
     "text": [
      "The Present Value is 861.7727126032183\n"
     ]
    }
   ],
   "source": [
    "# @TODO: Use the formula for Present Value to calculate a \"fair value\" of the loan.\n",
    "# Use a minimum required return of 20% as the discount rate.\n",
    "#   You'll want to use the **monthly** version of the present value formula.\n",
    "#   HINT: Present Value = Future Value / (1 + Discount_Rate/12) ** remaining_months\n",
    "\n",
    "# YOUR CODE HERE!\n",
    "\n",
    "Discount_rate = (1+(20/100)/12)\n",
    "\n",
    "present_Value = future_value / Discount_rate ** remaining_months\n",
    "\n",
    "print(\"The Present Value is\", present_Value)"
   ]
  },
  {
   "cell_type": "code",
   "execution_count": 156,
   "id": "55b8e3b2-67bb-4669-831a-c6437f94fff4",
   "metadata": {},
   "outputs": [
    {
     "name": "stdout",
     "output_type": "stream",
     "text": [
      "The loan is worth at least the cost to buy it\n"
     ]
    }
   ],
   "source": [
    "# If Present Value represents what the loan is really worth, does it make sense to buy the loan at its cost?\n",
    "# @TODO: Write a conditional statement (an if-else statement) to decide if the present value represents the loan's fair value.\n",
    "#    If the present value of the loan is greater than or equal to the cost, then print a message that says the loan is worth at least the cost to buy it.\n",
    "#    Else, the present value of the loan is less than the loan cost, then print a message that says that the loan is too expensive and not worth the price.\n",
    "# YOUR CODE HERE!\n",
    "print(\"The loan is worth at least the cost to buy it\") if present_Value >= loan.get('loan_price') else print(\"The loan is too expensive and not worth the price\")"
   ]
  },
  {
   "cell_type": "code",
   "execution_count": 157,
   "id": "41e5f077-0773-4c7f-a96d-be11bd3cf1f0",
   "metadata": {},
   "outputs": [],
   "source": [
    "\"\"\"Part 3: Perform Financial Calculations.\n",
    "\n",
    "Perform financial calculations using functions.\n",
    "\n",
    "1. Define a new function that will be used to calculate present value.\n",
    "    a. This function should include parameters for `future_value`, `remaining_months`, and the `annual_discount_rate`\n",
    "    b. The function should return the `present_value` for the loan.\n",
    "2. Use the function to calculate the present value of the new loan given below.\n",
    "    a. Use an `annual_discount_rate` of 0.2 for this new loan calculation.\n",
    "\"\"\"\n",
    "\n",
    "# Given the following loan data, you will need to calculate the present value for the loan\n",
    "new_loan = {\n",
    "    \"loan_price\": 800,\n",
    "    \"remaining_months\": 12,\n",
    "    \"repayment_interval\": \"bullet\",\n",
    "    \"future_value\": 1000,\n",
    "}\n",
    "\n",
    "# @TODO: Define a new function that will be used to calculate present value.\n",
    "#    This function should include parameters for `future_value`, `remaining_months`, and the `annual_discount_rate`\n",
    "#    The function should return the `present_value` for the loan.\n",
    "# YOUR CODE HERE!\n",
    "def calculate_present_value(future_value, remaining_months, annual_discount_rate):\n",
    "    present_value_new = future_value / Discount_rate ** remaining_months\n",
    "    return present_value_new"
   ]
  },
  {
   "cell_type": "code",
   "execution_count": 158,
   "id": "ed9c8745-9ede-41e2-bb20-d58608ad0201",
   "metadata": {},
   "outputs": [
    {
     "name": "stdout",
     "output_type": "stream",
     "text": [
      "The present value of the loan is: 861.7727126032183\n"
     ]
    }
   ],
   "source": [
    "# @TODO: Use the function to calculate the present value of the new loan given below.\n",
    "#    Use an `annual_discount_rate` of 0.2 for this new loan calculation.\n",
    "# YOUR CODE HERE!\n",
    "annual_discount_rate = 0.20\n",
    "future_value = loan.get('future_value')\n",
    "remaining_months = loan.get('remaining_months')\n",
    "\n",
    "present_value = calculate_present_value(future_value,remaining_months,annual_discount_rate)\n",
    "\n",
    "print(f\"The present value of the loan is: {present_value}\")\n"
   ]
  },
  {
   "cell_type": "code",
   "execution_count": 159,
   "id": "b31270ef-f092-4566-bc14-7ec9341dd389",
   "metadata": {},
   "outputs": [],
   "source": [
    "\"\"\"Part 4: Conditionally filter lists of loans.\n",
    "\n",
    "In this section, you will use a loop to iterate through a series of loans and select only the inexpensive loans.\n",
    "\n",
    "1. Create a new, empty list called `inexpensive_loans`.\n",
    "2. Use a for loop to select each loan from a list of loans.\n",
    "    a. Inside the for loop, write an if-statement to determine if the loan_price is less than or equal to 500\n",
    "    b. If the loan_price is less than or equal to 500 then append that loan to the `inexpensive_loans` list.\n",
    "3. Print the list of inexpensive_loans.\n",
    "\"\"\"\n",
    "\n",
    "loans = [\n",
    "    {\n",
    "        \"loan_price\": 700,\n",
    "        \"remaining_months\": 9,\n",
    "        \"repayment_interval\": \"monthly\",\n",
    "        \"future_value\": 1000,\n",
    "    },\n",
    "    {\n",
    "        \"loan_price\": 500,\n",
    "        \"remaining_months\": 13,\n",
    "        \"repayment_interval\": \"bullet\",\n",
    "        \"future_value\": 1000,\n",
    "    },\n",
    "    {\n",
    "        \"loan_price\": 200,\n",
    "        \"remaining_months\": 16,\n",
    "        \"repayment_interval\": \"bullet\",\n",
    "        \"future_value\": 1000,\n",
    "    },\n",
    "    {\n",
    "        \"loan_price\": 900,\n",
    "        \"remaining_months\": 16,\n",
    "        \"repayment_interval\": \"bullet\",\n",
    "        \"future_value\": 1000,\n",
    "    },\n",
    "]\n",
    "\n",
    "# @TODO: Create an empty list called `inexpensive_loans`\n",
    "# YOUR CODE HERE!\n",
    "inexpensive_loans =[]"
   ]
  },
  {
   "cell_type": "code",
   "execution_count": 160,
   "id": "e52d8928-f26a-4f2c-ba61-98d7b3953d83",
   "metadata": {},
   "outputs": [],
   "source": [
    "# @TODO: Loop through all the loans and append any that cost $500 or less to the `inexpensive_loans` list\n",
    "# YOUR CODE HERE!\n",
    "for x in loans:\n",
    "    if x['loan_price']<=500:\n",
    "        inexpensive_loans.append(x)\n",
    "        "
   ]
  },
  {
   "cell_type": "code",
   "execution_count": 161,
   "id": "b4d755c1-2cd8-4d9d-8c6d-36b5b5ca6098",
   "metadata": {},
   "outputs": [
    {
     "name": "stdout",
     "output_type": "stream",
     "text": [
      "[{'loan_price': 500, 'remaining_months': 13, 'repayment_interval': 'bullet', 'future_value': 1000}, {'loan_price': 200, 'remaining_months': 16, 'repayment_interval': 'bullet', 'future_value': 1000}]\n"
     ]
    }
   ],
   "source": [
    "# @TODO: Print the `inexpensive_loans` list\n",
    "# YOUR CODE HERE!\n",
    "\n",
    "print(inexpensive_loans)"
   ]
  },
  {
   "cell_type": "code",
   "execution_count": 163,
   "id": "56e3880e-9796-4a35-bfed-80e62a24c010",
   "metadata": {},
   "outputs": [],
   "source": [
    "\"\"\"Part 5: Save the results.\n",
    "\n",
    "Output this list of inexpensive loans to a csv file\n",
    "    1. Use `with open` to open a new CSV file.\n",
    "        a. Create a `csvwriter` using the `csv` library.\n",
    "        b. Use the new csvwriter to write the header variable as the first row.\n",
    "        c. Use a for loop to iterate through each loan in `inexpensive_loans`.\n",
    "            i. Use the csvwriter to write the `loan.values()` to a row in the CSV file.\n",
    "\n",
    "    Hint: Refer to the official documentation for the csv library.\n",
    "    https://docs.python.org/3/library/csv.html#writer-objects\n",
    "\n",
    "\"\"\"\n",
    "\n",
    "# Set the output header\n",
    "header = [\"loan_price\", \"remaining_months\", \"repayment_interval\", \"future_value\"]\n",
    "\n",
    "# Set the output file path\n",
    "output_path = Path(\"inexpensive_loans.csv\")\n",
    "\n",
    "# @TODO: Use the csv library and `csv.writer` to write the header row\n",
    "# and each row of `loan.values()` from the `inexpensive_loans` list.\n",
    "# YOUR CODE HERE!\n",
    "import csv\n",
    "\n",
    "data = loans\n",
    "\n",
    "\n",
    "with open(output_path, 'w', encoding='UTF8', newline='') as f:\n",
    "    writer = csv.DictWriter(f, fieldnames=header)\n",
    "    writer.writeheader()\n",
    "    writer.writerows(data)\n",
    "        "
   ]
  },
  {
   "cell_type": "code",
   "execution_count": null,
   "id": "ee2cba9c-7fb7-4571-8ea0-fe7827eddcf3",
   "metadata": {},
   "outputs": [],
   "source": []
  },
  {
   "cell_type": "code",
   "execution_count": null,
   "id": "72717eae-df2e-4d4a-9cbb-730d688e8781",
   "metadata": {},
   "outputs": [],
   "source": []
  }
 ],
 "metadata": {
  "kernelspec": {
   "display_name": "Python 3",
   "language": "python",
   "name": "python3"
  },
  "language_info": {
   "codemirror_mode": {
    "name": "ipython",
    "version": 3
   },
   "file_extension": ".py",
   "mimetype": "text/x-python",
   "name": "python",
   "nbconvert_exporter": "python",
   "pygments_lexer": "ipython3",
   "version": "3.8.8"
  }
 },
 "nbformat": 4,
 "nbformat_minor": 5
}
